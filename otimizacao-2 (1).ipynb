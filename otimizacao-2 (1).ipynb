{
  "nbformat": 4,
  "nbformat_minor": 0,
  "metadata": {
    "colab": {
      "provenance": []
    },
    "kernelspec": {
      "name": "python3",
      "display_name": "Python 3"
    },
    "language_info": {
      "name": "python"
    }
  },
  "cells": [
    {
      "cell_type": "code",
      "execution_count": null,
      "metadata": {
        "id": "aPZzsvMwnkUT"
      },
      "outputs": [],
      "source": [
        "#Edgard Ramos, Rafael Amaranto, Arthur Ferreira,Otávio Almeida, Gabriel Pasquotto"
      ]
    },
    {
      "cell_type": "code",
      "source": [
        "pip install pulp\n"
      ],
      "metadata": {
        "id": "8-8ByCz3nm7u",
        "colab": {
          "base_uri": "https://localhost:8080/"
        },
        "outputId": "69179624-5c2c-4a2a-ee1c-6fa06ba9db36"
      },
      "execution_count": null,
      "outputs": [
        {
          "output_type": "stream",
          "name": "stdout",
          "text": [
            "Looking in indexes: https://pypi.org/simple, https://us-python.pkg.dev/colab-wheels/public/simple/\n",
            "Collecting pulp\n",
            "  Downloading PuLP-2.7.0-py3-none-any.whl (14.3 MB)\n",
            "\u001b[2K     \u001b[90m━━━━━━━━━━━━━━━━━━━━━━━━━━━━━━━━━━━━━━━━\u001b[0m \u001b[32m14.3/14.3 MB\u001b[0m \u001b[31m43.9 MB/s\u001b[0m eta \u001b[36m0:00:00\u001b[0m\n",
            "\u001b[?25hInstalling collected packages: pulp\n",
            "Successfully installed pulp-2.7.0\n"
          ]
        }
      ]
    },
    {
      "cell_type": "code",
      "source": [
        "foods = {\n",
        "    'arroz': [2, 40, 1, 0, 0, 1, 0.1],\n",
        "    'feijão': [5, 20, 1, 0, 0, 2, 0.5],\n",
        "    'frango': [20, 0, 5, 0, 2, 1, 2],\n",
        "    'leite': [8, 12, 10, 30, 2, 8, 0.2],\n",
        "    'maçã': [0, 10, 0, 50, 10, 1, 0.1],\n",
        "    'banana': [1, 30, 0, 2, 15, 1, 0.3],\n",
        "    'ovo': [6, 0, 5, 0, 0, 2, 1],\n",
        "    'tomate': [1, 5, 0, 20, 10, 1, 0.2]\n",
        "}\n"
      ],
      "metadata": {
        "id": "jUAeK61VxtEE"
      },
      "execution_count": null,
      "outputs": []
    },
    {
      "cell_type": "code",
      "source": [
        "from pulp import *\n",
        "\n",
        "def optimize_diet(foods, protein, carb, fat, vitA, vitC, calcium, iron):\n",
        "    # Cria um problema de programação linear\n",
        "    prob = LpProblem('Diet Problem', LpMinimize)\n",
        "\n",
        "    # Cria variáveis para cada alimento\n",
        "    food_vars = LpVariable.dicts('F', foods, lowBound=0, cat='Continuous')\n",
        "\n",
        "    # Adiciona a função objetivo - minimiza o custo total dos alimentos\n",
        "    prob += lpSum([food_vars[f] for f in foods])\n",
        "\n",
        "    # Restrições de nutrientes\n",
        "    prob += lpSum([foods[f][0] * food_vars[f] for f in foods]) >= protein\n",
        "    prob += lpSum([foods[f][1] * food_vars[f] for f in foods]) >= carb\n",
        "    prob += lpSum([foods[f][2] * food_vars[f] for f in foods]) >= fat\n",
        "    prob += lpSum([foods[f][3] * food_vars[f] for f in foods]) >= vitA\n",
        "    prob += lpSum([foods[f][4] * food_vars[f] for f in foods]) >= vitC\n",
        "    prob += lpSum([foods[f][5] * food_vars[f] for f in foods]) >= calcium\n",
        "    prob += lpSum([foods[f][6] * food_vars[f] for f in foods]) >= iron\n",
        "\n",
        "    # Resolve o problema\n",
        "    prob.solve()\n",
        "\n",
        "    # Retorna a lista de alimentos\n",
        "    print (f)\n"
      ],
      "metadata": {
        "id": "BH9HX9I9xv9G"
      },
      "execution_count": null,
      "outputs": []
    },
    {
      "cell_type": "code",
      "source": [
        "from pulp import *\n",
        "\n",
        "# Dicionário com os alimentos e suas respectivas quantidades de proteína, carboidrato, gordura, vitamina A, vitamina C, cálcio e ferro\n",
        "alimentos = {'alimento1': {'proteina': 20, 'carboidrato': 50, 'gordura': 10, 'vitamina_a': 100, 'vitamina_c': 5, 'calcio': 500, 'ferro': 2},\n",
        "             'alimento2': {'proteina': 30, 'carboidrato': 20, 'gordura': 5, 'vitamina_a': 50, 'vitamina_c': 10, 'calcio': 200, 'ferro': 1},\n",
        "             'alimento3': {'proteina': 10, 'carboidrato': 40, 'gordura': 5, 'vitamina_a': 20, 'vitamina_c': 15, 'calcio': 300, 'ferro': 3}}\n",
        "\n",
        "# Definindo o problema de otimização\n",
        "prob = LpProblem(\"Otimização de Dieta\", LpMaximize)\n",
        "\n",
        "# Definindo as variáveis de decisão\n",
        "alimentos_vars = LpVariable.dicts(\"Alimento\", alimentos.keys(), 0)\n",
        "\n",
        "# Função objetivo\n",
        "prob += lpSum([alimentos_vars[a] for a in alimentos]), \"Total de alimentos\"\n",
        "\n",
        "# Restrições\n",
        "prob += lpSum([alimentos[a]['proteina'] * alimentos_vars[a] for a in alimentos]) >= 56, \"Proteína\"\n",
        "prob += lpSum([alimentos[a]['carboidrato'] * alimentos_vars[a] for a in alimentos]) >= 280, \"Carboidrato\"\n",
        "prob += lpSum([alimentos[a]['gordura'] * alimentos_vars[a] for a in alimentos]) >= 70, \"Gordura\"\n",
        "prob += lpSum([alimentos[a]['vitamina_a'] * alimentos_vars[a] for a in alimentos]) >= 900, \"Vitamina A\"\n",
        "prob += lpSum([alimentos[a]['vitamina_c'] * alimentos_vars[a] for a in alimentos]) >= 90, \"Vitamina C\"\n",
        "prob += lpSum([alimentos[a]['calcio'] * alimentos_vars[a] for a in alimentos]) >= 1000, \"Cálcio\"\n",
        "prob += lpSum([alimentos[a]['ferro'] * alimentos_vars[a] for a in alimentos]) >= 8, \"Ferro\"\n",
        "\n",
        "# Resolvendo o problema de otimização\n",
        "prob.solve()\n",
        "\n",
        "# Imprimindo a solução\n",
        "print(\"Status: \", LpStatus[prob.status])\n",
        "for v in prob.variables():\n",
        "    print(v)\n"
      ],
      "metadata": {
        "colab": {
          "base_uri": "https://localhost:8080/"
        },
        "id": "6yN4rI4Gx3sD",
        "outputId": "3cbba2af-534c-4fc2-d0a8-0cc66b74fc59"
      },
      "execution_count": null,
      "outputs": [
        {
          "output_type": "stream",
          "name": "stdout",
          "text": [
            "Status:  Unbounded\n",
            "Alimento_alimento1\n",
            "Alimento_alimento2\n",
            "Alimento_alimento3\n"
          ]
        }
      ]
    },
    {
      "cell_type": "code",
      "source": [
        "print(\"Status: \", LpStatus[prob.status])\n",
        "for v in prob.variables():\n",
        "    print(v)"
      ],
      "metadata": {
        "colab": {
          "base_uri": "https://localhost:8080/"
        },
        "id": "DUOm2pykyIBH",
        "outputId": "458fe106-cd5e-414e-99e0-c0548b37966c"
      },
      "execution_count": null,
      "outputs": [
        {
          "output_type": "stream",
          "name": "stdout",
          "text": [
            "Status:  Unbounded\n",
            "Alimento_alimento1\n",
            "Alimento_alimento2\n",
            "Alimento_alimento3\n"
          ]
        }
      ]
    },
    {
      "cell_type": "code",
      "source": [
        "# Dicionário com os alimentos e suas respectivas quantidades de proteína, carboidrato, gordura, vitamina A, vitamina C, cálcio e ferro\n",
        "alimentos = {'frango': {'proteina': 120, 'carboidrato': 295, 'gordura': 76, 'vitamina_a': 950, 'vitamina_c': 95, 'calcio': 1500, 'ferro': 9},\n",
        "             'arroz': {'proteina': 90, 'carboidrato': 400, 'gordura': 75, 'vitamina_a': 920, 'vitamina_c': 94, 'calcio': 1200, 'ferro': 10},\n",
        "             'ovo': {'proteina': 100, 'carboidrato': 300, 'gordura': 80, 'vitamina_a': 910, 'vitamina_c': 93, 'calcio': 1300, 'ferro': 13},\n",
        "             'feijão': {'proteina': 70, 'carboidrato': 260, 'gordura': 10, 'vitamina_a': 20, 'vitamina_c': 5, 'calcio': 130, 'ferro': 7},\n",
        "             'banana': {'proteina': 1, 'carboidrato': 23, 'gordura': 0, 'vitamina_a': 64, 'vitamina_c': 10, 'calcio': 8, 'ferro': 0.3},\n",
        "             'batata-doce': {'proteina': 2, 'carboidrato': 20, 'gordura': 0, 'vitamina_a': 14, 'vitamina_c': 21, 'calcio': 30, 'ferro': 0.8},\n",
        "             'salmão': {'proteina': 170, 'carboidrato': 0, 'gordura': 50, 'vitamina_a': 80, 'vitamina_c': 0, 'calcio': 30, 'ferro': 1},\n",
        "             'pão': {'proteina': 3, 'carboidrato': 4, 'gordura': 0, 'vitamina_a': 940, 'vitamina_c': 9, 'calcio': 99, 'ferro': 3.6},\n",
        "             'abacate': {'proteina': 2, 'carboidrato': 9, 'gordura': 15, 'vitamina_a': 20, 'vitamina_c': 10, 'calcio': 12, 'ferro': 0.4},\n",
        "             'amêndoas': {'proteina': 6, 'carboidrato': 6, 'gordura': 49, 'vitamina_a': 0, 'vitamina_c': 0, 'calcio': 264, 'ferro': 3.7}}\n",
        "\n",
        "\n",
        "# Definindo o problema de otimização\n",
        "prob = LpProblem(\"Otimização de Dieta\", LpMaximize)\n",
        "\n",
        "# Definindo as variáveis de decisão\n",
        "alimentos_vars = LpVariable.dicts(\"Alimento\", alimentos.keys(), 0)\n",
        "\n",
        "# Função objetivo\n",
        "prob += lpSum([alimentos_vars[a] for a in alimentos.keys()]), \"Total de alimentos\"\n",
        "\n",
        "# Restrições\n",
        "prob += lpSum([alimentos[a]['proteina'] * alimentos_vars[a] for a in alimentos]) >= 56, \"Proteína\"\n",
        "prob += lpSum([alimentos[a]['carboidrato'] * alimentos_vars[a] for a in alimentos]) >= 280, \"Carboidrato\"\n",
        "prob += lpSum([alimentos[a]['gordura'] * alimentos_vars[a] for a in alimentos]) >= 70, \"Gordura\"\n",
        "prob += lpSum([alimentos[a]['vitamina_a'] * alimentos_vars[a] for a in alimentos]) >= 900, \"Vitamina A\"\n",
        "prob += lpSum([alimentos[a]['vitamina_c'] * alimentos_vars[a] for a in alimentos]) >= 90, \"Vitamina C\"\n",
        "prob += lpSum([alimentos[a]['calcio'] * alimentos_vars[a] for a in alimentos]) >= 1000, \"Cálcio\"\n",
        "prob += lpSum([alimentos[a]['ferro'] * alimentos_vars[a] for a in alimentos]) >= 8, \"Ferro\"\n",
        "# Restrição de limite de calorias\n",
        "prob += lpSum([alimentos_vars[a] * (alimentos[a]['proteina'] + alimentos[a]['carboidrato'] + alimentos[a]['gordura']) for a in alimentos]) <= 2000, \"Limite de calorias\"\n",
        "\n",
        "# Restrição de limite de quantidade de cada alimento\n",
        "for a in alimentos:\n",
        "    prob += alimentos_vars[a] <= 5, \"Limite de \" + a\n",
        "\n",
        "\n",
        "# Resolvendo o problema de otimização\n",
        "prob.solve()\n",
        "\n",
        "# Imprimindo a solução\n",
        "print(\"Status: \", LpStatus[prob.status])\n",
        "for v in prob.variables():\n",
        "    if v.varValue > 0:\n",
        "       print(v.name, \"=\", v.varValue)\n"
      ],
      "metadata": {
        "colab": {
          "base_uri": "https://localhost:8080/"
        },
        "id": "AajHekwnyjrg",
        "outputId": "7344c3a7-6278-4a9b-e8ff-000111d19d95"
      },
      "execution_count": null,
      "outputs": [
        {
          "output_type": "stream",
          "name": "stdout",
          "text": [
            "Status:  Optimal\n",
            "Alimento_abacate = 5.0\n",
            "Alimento_amêndoas = 5.0\n",
            "Alimento_banana = 5.0\n",
            "Alimento_batata_doce = 5.0\n",
            "Alimento_espinafre = 5.0\n",
            "Alimento_feijão = 0.58823529\n",
            "Alimento_salmão = 5.0\n"
          ]
        }
      ]
    },
    {
      "cell_type": "code",
      "source": [],
      "metadata": {
        "id": "cdztSzkq72yt"
      },
      "execution_count": null,
      "outputs": []
    }
  ]
}